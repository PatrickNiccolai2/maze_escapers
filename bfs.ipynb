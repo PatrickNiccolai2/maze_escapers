{
 "cells": [
  {
   "cell_type": "code",
   "execution_count": null,
   "metadata": {},
   "outputs": [],
   "source": [
    "import SharedMap\n",
    "\n",
    "path = []\n",
    "visited_vertices = []\n",
    "queue = []\n",
    "\n",
    "def bfs(graph, start, goal):\n",
    "\n",
    "\n",
    "    queue.append(start)\n",
    "    visited_vertices.append(start)\n",
    "   \n",
    "    # While there are still vertices to be visited\n",
    "    while len(queue) > 0:\n",
    "        \n",
    "        # Get next vertex to be visited, visit it and get its neighbors\n",
    "        current = queue.pop(0)\n",
    "        path.append(current)\n",
    "\n",
    "        # If goal vertex has been reached\n",
    "        if current == goal:\n",
    "            return path\n",
    "\n",
    "        current_neighbors = graph.get_neighbors(current)\n",
    "\n",
    "        # Find each neighbor of the current vertex and add to the queue\n",
    "        for each in current_neighbors:\n",
    "            if each not in visited_vertices:\n",
    "                visited_vertices.append(each)\n",
    "                queue.append(each)\n",
    "        "
   ]
  }
 ],
 "metadata": {
  "language_info": {
   "name": "python"
  },
  "orig_nbformat": 4
 },
 "nbformat": 4,
 "nbformat_minor": 2
}
